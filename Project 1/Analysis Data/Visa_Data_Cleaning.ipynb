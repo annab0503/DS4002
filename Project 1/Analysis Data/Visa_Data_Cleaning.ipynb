{
  "nbformat": 4,
  "nbformat_minor": 0,
  "metadata": {
    "colab": {
      "provenance": [],
      "authorship_tag": "ABX9TyO9nZeHal3LLxtI1HMNJxfw",
      "include_colab_link": true
    },
    "kernelspec": {
      "name": "python3",
      "display_name": "Python 3"
    },
    "language_info": {
      "name": "python"
    }
  },
  "cells": [
    {
      "cell_type": "markdown",
      "metadata": {
        "id": "view-in-github",
        "colab_type": "text"
      },
      "source": [
        "<a href=\"https://colab.research.google.com/github/annab0503/DS4002/blob/main/Project%201/Analysis%20Data/Visa_Data_Cleaning.ipynb\" target=\"_parent\"><img src=\"https://colab.research.google.com/assets/colab-badge.svg\" alt=\"Open In Colab\"/></a>"
      ]
    },
    {
      "cell_type": "code",
      "source": [
        "# Import dependencies\n",
        "import pandas as pd\n",
        "import os\n",
        "import requests"
      ],
      "metadata": {
        "id": "SHtGfRIs3Mbd"
      },
      "execution_count": 1,
      "outputs": []
    },
    {
      "cell_type": "markdown",
      "source": [
        "### Step 1: Load the Excel file from the URL"
      ],
      "metadata": {
        "id": "8aawLGlo3NDT"
      }
    },
    {
      "cell_type": "code",
      "execution_count": 2,
      "metadata": {
        "id": "nChf_pmi3LAc"
      },
      "outputs": [],
      "source": [
        "url = 'https://github.com/annab0503/DS4002/blob/main/Project%201/Original%20Data/FYs97-14_NIVDetailTable.xls?raw=true'\n",
        "response = requests.get(url)\n",
        "excel_file_path = '/content/FYs97-14_NIVDetailTable.xls'\n",
        "\n",
        "# Save the file locally\n",
        "with open(excel_file_path, 'wb') as f:\n",
        "    f.write(response.content)\n",
        "\n",
        "# Load the Excel file\n",
        "excel_data = pd.ExcelFile(excel_file_path)\n",
        "\n",
        "# Directory to save the CSV files\n",
        "csv_directory = '/content/csv_files'\n",
        "os.makedirs(csv_directory, exist_ok=True)  # Ensure directory exists"
      ]
    },
    {
      "cell_type": "markdown",
      "source": [
        "### Step 2: Iterate through each sheet in the Excel file and save as CSV"
      ],
      "metadata": {
        "id": "Z_nYREFz3oo4"
      }
    },
    {
      "cell_type": "code",
      "source": [
        "for sheet_name in excel_data.sheet_names:\n",
        "    # Load the sheet into a DataFrame\n",
        "    df = excel_data.parse(sheet_name)\n",
        "\n",
        "    # Define the output CSV file name\n",
        "    csv_file = os.path.join(csv_directory, f'{sheet_name}.csv')\n",
        "\n",
        "    # Save the DataFrame as a CSV file\n",
        "    df.to_csv(csv_file, index=False)\n",
        "    print(f\"Saved sheet '{sheet_name}' to {csv_file}\")"
      ],
      "metadata": {
        "colab": {
          "base_uri": "https://localhost:8080/"
        },
        "id": "aFax1rsJ3qfX",
        "outputId": "ee7031b6-02b7-478b-d3eb-883ee8cf673d"
      },
      "execution_count": 3,
      "outputs": [
        {
          "output_type": "stream",
          "name": "stdout",
          "text": [
            "Saved sheet 'FY97' to /content/csv_files/FY97.csv\n",
            "Saved sheet 'FY98' to /content/csv_files/FY98.csv\n",
            "Saved sheet 'FY99' to /content/csv_files/FY99.csv\n",
            "Saved sheet 'FY00' to /content/csv_files/FY00.csv\n",
            "Saved sheet 'FY01' to /content/csv_files/FY01.csv\n",
            "Saved sheet 'FY02' to /content/csv_files/FY02.csv\n",
            "Saved sheet 'FY03' to /content/csv_files/FY03.csv\n",
            "Saved sheet 'FY04' to /content/csv_files/FY04.csv\n",
            "Saved sheet 'FY05' to /content/csv_files/FY05.csv\n",
            "Saved sheet 'FY06' to /content/csv_files/FY06.csv\n",
            "Saved sheet 'FY07' to /content/csv_files/FY07.csv\n",
            "Saved sheet 'FY08' to /content/csv_files/FY08.csv\n",
            "Saved sheet 'FY09' to /content/csv_files/FY09.csv\n",
            "Saved sheet 'FY10' to /content/csv_files/FY10.csv\n",
            "Saved sheet 'FY11' to /content/csv_files/FY11.csv\n",
            "Saved sheet 'FY12' to /content/csv_files/FY12.csv\n",
            "Saved sheet 'FY13' to /content/csv_files/FY13.csv\n",
            "Saved sheet 'FY14' to /content/csv_files/FY14.csv\n"
          ]
        }
      ]
    },
    {
      "cell_type": "markdown",
      "source": [
        "### Step 3: Process each CSV file"
      ],
      "metadata": {
        "id": "KWa9-8nY3dlY"
      }
    },
    {
      "cell_type": "code",
      "source": [
        "\n",
        "csv_files = [f for f in os.listdir(csv_directory) if f.endswith('.csv')]\n",
        "\n",
        "# Loop over each CSV file for processing\n",
        "for csv_file in csv_files:\n",
        "    # Load the CSV file into a DataFrame\n",
        "    year_data = pd.read_csv(os.path.join(csv_directory, csv_file))\n",
        "\n",
        "    # Drop empty rows\n",
        "    year_data = year_data.dropna(how='all')\n",
        "\n",
        "    # Rename the 'Fiscal Year' column to 'Country'\n",
        "    fiscal_year_column = next((col for col in year_data.columns if 'Fiscal Year' in col), None)\n",
        "    if fiscal_year_column:\n",
        "        year_data.rename(columns={fiscal_year_column: 'Country'}, inplace=True)\n",
        "\n",
        "    # Remove rows for continents and totals\n",
        "    countries_to_drop = ['Africa', 'Asia', 'Europe', 'North America', 'Oceania', 'South America', 'Unknown']\n",
        "    year_data = year_data[~year_data['Country'].isin(countries_to_drop)]\n",
        "    year_data = year_data[~year_data['Country'].str.contains('Totals', na=False)]\n",
        "\n",
        "    # Reshape the DataFrame with 'melt'\n",
        "    year_data = year_data.melt(id_vars=['Country'],\n",
        "                                var_name='Type of U.S. Visa',\n",
        "                                value_name='Quantity of U.S Visas Granted')\n",
        "\n",
        "    # Extract year from the filename (e.g., 'FY1997.csv')\n",
        "    year = int(csv_file.split('FY')[1].split('.csv')[0])\n",
        "    year_data['Fiscal Year'] = year\n",
        "\n",
        "    # Save the reshaped DataFrame as a new CSV file\n",
        "    output_file = os.path.join(csv_directory, f\"processed_{csv_file}\")\n",
        "    year_data.to_csv(output_file, index=False)\n",
        "\n",
        "    print(f\"Processed {csv_file} and saved to {output_file}\")"
      ],
      "metadata": {
        "colab": {
          "base_uri": "https://localhost:8080/"
        },
        "id": "5b7mM_z_3cSC",
        "outputId": "707c1fa5-6322-4f1e-e6ca-bc03da087fe1"
      },
      "execution_count": 4,
      "outputs": [
        {
          "output_type": "stream",
          "name": "stdout",
          "text": [
            "Processed FY11.csv and saved to /content/csv_files/processed_FY11.csv\n",
            "Processed FY09.csv and saved to /content/csv_files/processed_FY09.csv\n",
            "Processed FY08.csv and saved to /content/csv_files/processed_FY08.csv\n"
          ]
        },
        {
          "output_type": "stream",
          "name": "stderr",
          "text": [
            "<ipython-input-4-613bd8103da5>:14: SettingWithCopyWarning: \n",
            "A value is trying to be set on a copy of a slice from a DataFrame\n",
            "\n",
            "See the caveats in the documentation: https://pandas.pydata.org/pandas-docs/stable/user_guide/indexing.html#returning-a-view-versus-a-copy\n",
            "  year_data.rename(columns={fiscal_year_column: 'Country'}, inplace=True)\n"
          ]
        },
        {
          "output_type": "stream",
          "name": "stdout",
          "text": [
            "Processed FY07.csv and saved to /content/csv_files/processed_FY07.csv\n",
            "Processed FY04.csv and saved to /content/csv_files/processed_FY04.csv\n",
            "Processed FY13.csv and saved to /content/csv_files/processed_FY13.csv\n",
            "Processed FY03.csv and saved to /content/csv_files/processed_FY03.csv\n",
            "Processed FY99.csv and saved to /content/csv_files/processed_FY99.csv\n",
            "Processed FY01.csv and saved to /content/csv_files/processed_FY01.csv\n",
            "Processed FY02.csv and saved to /content/csv_files/processed_FY02.csv\n",
            "Processed FY10.csv and saved to /content/csv_files/processed_FY10.csv\n",
            "Processed FY00.csv and saved to /content/csv_files/processed_FY00.csv\n",
            "Processed FY98.csv and saved to /content/csv_files/processed_FY98.csv\n",
            "Processed FY06.csv and saved to /content/csv_files/processed_FY06.csv\n",
            "Processed FY14.csv and saved to /content/csv_files/processed_FY14.csv\n",
            "Processed FY05.csv and saved to /content/csv_files/processed_FY05.csv\n",
            "Processed FY12.csv and saved to /content/csv_files/processed_FY12.csv\n",
            "Processed FY97.csv and saved to /content/csv_files/processed_FY97.csv\n"
          ]
        }
      ]
    },
    {
      "cell_type": "markdown",
      "source": [
        "### Step 4: Merge all processed CSV files into one DataFrame"
      ],
      "metadata": {
        "id": "cQqLRHTN3wdb"
      }
    },
    {
      "cell_type": "code",
      "source": [
        "processed_csv_files = [f for f in os.listdir(csv_directory) if f.startswith('processed_') and f.endswith('.csv')]\n",
        "\n",
        "# List to hold DataFrames for merging\n",
        "dfs = []\n",
        "\n",
        "# Load each processed CSV file into a DataFrame and append to the list\n",
        "for csv_file in processed_csv_files:\n",
        "    df = pd.read_csv(os.path.join(csv_directory, csv_file))\n",
        "    dfs.append(df)\n",
        "\n",
        "# Concatenate all DataFrames into a single DataFrame\n",
        "merged_df = pd.concat(dfs, ignore_index=True)\n",
        "\n",
        "# Save the merged DataFrame to a new CSV file\n",
        "merged_csv_file = os.path.join(csv_directory, 'merged_data.csv')\n",
        "merged_df.to_csv(merged_csv_file, index=False)\n",
        "\n",
        "print(f\"All processed CSV files merged and saved to {merged_csv_file}\")"
      ],
      "metadata": {
        "colab": {
          "base_uri": "https://localhost:8080/"
        },
        "id": "pouJeSL63wuW",
        "outputId": "483562e3-ba6e-4a95-f464-ff2c10107cee"
      },
      "execution_count": 5,
      "outputs": [
        {
          "output_type": "stream",
          "name": "stdout",
          "text": [
            "All processed CSV files merged and saved to /content/csv_files/merged_data.csv\n"
          ]
        }
      ]
    },
    {
      "cell_type": "markdown",
      "source": [
        " ### Step 5: Load the merged data"
      ],
      "metadata": {
        "id": "1F2rLmmT34gx"
      }
    },
    {
      "cell_type": "code",
      "source": [
        "visa_data = pd.read_csv('/content/csv_files/merged_data.csv')\n",
        "\n",
        "# Convert 'Year' column to numeric, coercing errors to NaN\n",
        "visa_data['Fiscal Year'] = pd.to_numeric(visa_data['Fiscal Year'], errors='coerce')\n",
        "\n",
        "# Check and display the number of non-numeric values in 'Year'\n",
        "print(visa_data['Fiscal Year'].isna().sum(), \"non-numeric values converted to NaN\")"
      ],
      "metadata": {
        "colab": {
          "base_uri": "https://localhost:8080/"
        },
        "id": "pRXDX3Yb34yf",
        "outputId": "0b495b79-cdc1-4cef-cd5e-4914fa3e1280"
      },
      "execution_count": 7,
      "outputs": [
        {
          "output_type": "stream",
          "name": "stdout",
          "text": [
            "0 non-numeric values converted to NaN\n"
          ]
        }
      ]
    },
    {
      "cell_type": "markdown",
      "source": [
        "### Step 6: Map fiscal year codes to actual years"
      ],
      "metadata": {
        "id": "t06cyHNb39TD"
      }
    },
    {
      "cell_type": "code",
      "source": [
        "code_to_year_map = {\n",
        "    97: 1997, 98: 1998, 99: 1999, 0: 2000, 1: 2001, 2: 2002, 3: 2003, 4: 2004, 5: 2005,\n",
        "    6: 2006, 7: 2007, 8: 2008, 9: 2009, 10: 2010, 11: 2011, 12: 2012, 13: 2013, 14: 2014\n",
        "}\n",
        "\n",
        "# Apply the mapping to the 'Year' column to convert codes to actual years\n",
        "visa_data['Fiscal Year'] = visa_data['Fiscal Year'].map(code_to_year_map)\n",
        "\n",
        "# Save the cleaned and merged data to a new CSV file\n",
        "visa_data.to_csv('visa_data.csv', index=False)"
      ],
      "metadata": {
        "id": "55bqJH6R39kf"
      },
      "execution_count": 8,
      "outputs": []
    }
  ]
}